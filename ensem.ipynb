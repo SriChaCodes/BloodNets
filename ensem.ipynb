{
 "cells": [
  {
   "cell_type": "code",
   "execution_count": null,
   "metadata": {},
   "outputs": [],
   "source": [
    "import torch\n",
    "\n",
    "# Define a function to load models\n",
    "def load_model(model_class, checkpoint_path, num_classes, device):\n",
    "    model = model_class(num_classes=num_classes)\n",
    "    model.load_state_dict(torch.load(checkpoint_path))\n",
    "    model = model.to(device)\n",
    "    model.eval()\n",
    "    return model\n",
    "\n",
    "# Load each model\n",
    "num_classes = 8  # Adjust this number to your specific number of classes\n",
    "device = torch.device(\"cuda\" if torch.cuda.is_available() else \"cpu\")\n",
    "\n",
    "# Replace 'YourYOLOv10Class', 'YourShuffleNetV2Class', etc., with your actual model class names\n",
    "yolo_model = load_model(YourYOLOv10Class, 'yolov10.pth', num_classes, device)\n",
    "shufflenet_model = load_model(YourShuffleNetV2Class, 'shufflenetv2.pth', num_classes, device)\n",
    "mobilenet_model = load_model(YourMobileNetV2Class, 'mobilenetv2.pth', num_classes, device)\n",
    "darknet_model = load_model(Darknet19, 'darknet19.pth', num_classes, device)\n"
   ]
  }
 ],
 "metadata": {
  "language_info": {
   "name": "python"
  }
 },
 "nbformat": 4,
 "nbformat_minor": 2
}
